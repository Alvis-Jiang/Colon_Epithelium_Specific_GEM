{
 "cells": [
  {
   "cell_type": "code",
   "execution_count": null,
   "metadata": {},
   "outputs": [],
   "source": [
    "import cobra\n",
    "import framed\n",
    "import cobamp\n",
    "import pandas as pd\n",
    "import numpy as np\n",
    "import pickle\n",
    "import scipy as sci\n",
    "\n",
    "from cobamp.wrappers import MatFormatReader\n",
    "from cobamp.wrappers import COBRAModelObjectReader\n",
    "from troppo.methods.reconstruction.imat import IMAT\n",
    "from troppo.methods.reconstruction.imat import IMATProperties\n",
    "from troppo.utilities.statistics import normalize, z_score\n",
    "\n",
    "from cobra.flux_analysis import fastcc"
   ]
  },
  {
   "cell_type": "code",
   "execution_count": null,
   "metadata": {},
   "outputs": [],
   "source": [
    "def load_glial_data(path):\n",
    "    data = pd.read_csv(path, index_col=0)\n",
    "    normalized_data = normalize(data)\n",
    "    z = None\n",
    "\n",
    "    return normalized_data, z\n",
    "\n",
    "def get_index_core(reactions_ids, data, threshold):\n",
    "    rx_names = data.index[data['0'] > threshold].tolist()\n",
    "    index_core = [np.where(reactions_ids == r)[0][0] for r in rx_names]\n",
    "    return index_core, rx_names\n",
    "\n",
    "def get_index_values():\n",
    "    pass"
   ]
  },
  {
   "cell_type": "code",
   "execution_count": null,
   "metadata": {},
   "outputs": [],
   "source": [
    "mat = sci.io.loadmat('/home/jiang817/cybergut_project/General_models/Recon3D.mat')['Recon3D']"
   ]
  },
  {
   "cell_type": "code",
   "execution_count": null,
   "metadata": {},
   "outputs": [],
   "source": [
    "model_cobra = cobra.io.load_matlab_model('/home/jiang817/cybergut_project/General_models/Recon3D.mat')"
   ]
  },
  {
   "cell_type": "code",
   "execution_count": null,
   "metadata": {},
   "outputs": [],
   "source": [
    "# Parameter setup\n",
    "model = MatFormatReader(mat)\n",
    "rx_names = model.get_reaction_and_metabolite_ids()[0]\n",
    "\n",
    "for i in range(len(model.bounds_dict)):\n",
    "    if rx_names[i].startswith('EX_'):\n",
    "        model.bounds_dict[rx_names[i]] = (-100.0, 100.0)\n",
    "        \n",
    "S = model.S\n",
    "lb, ub = model.get_model_bounds(False, True)"
   ]
  },
  {
   "cell_type": "code",
   "execution_count": null,
   "metadata": {},
   "outputs": [],
   "source": [
    "# Load expression data\n",
    "exp_data = pd.read_csv('/home/jiang817/cybergut_project/Draft_model/Recon3D_input/Recon3D_BIGG_iMAT_INPUT/expressionSet.csv')\n",
    "\n",
    "data_dict = {}\n",
    "\n",
    "for i in range(len(exp_data)):\n",
    "    data_dict[exp_data.iloc[i, 0]] = exp_data.iloc[i, 1]\n",
    "\n",
    "data_dict"
   ]
  },
  {
   "cell_type": "code",
   "execution_count": null,
   "metadata": {},
   "outputs": [],
   "source": [
    "\n",
    "# Map gene expression value to reactions\n",
    "expressionrxn = model.get_reaction_scores(data_dict)"
   ]
  },
  {
   "cell_type": "code",
   "execution_count": null,
   "metadata": {},
   "outputs": [],
   "source": [
    "expressionrxn = pd.DataFrame(list(expressionrxn.items()))\n",
    "expressionrxn.columns = ['', '0']\n",
    "expressionrxn.to_csv('/home/jiang817/cybergut_project/Draft_model/Draft_model_with_iMAT/RXN_EXPRESSION_iMAT.csv', index=False)\n",
    "original_data,_ = load_glial_data('/home/jiang817/cybergut_project/Draft_model/Draft_model_with_iMAT/RXN_EXPRESSION_iMAT.csv')\n",
    "iMAT_data = original_data.fillna((0.2+0.5)/2)"
   ]
  },
  {
   "cell_type": "code",
   "execution_count": null,
   "metadata": {},
   "outputs": [],
   "source": [
    "# Set protected reactions\n",
    "protected_rxns_name = ['BIOMASS_maintenance', 'FACOAL40im', 'FAOXC4020m']  \n",
    "protected_rxns_index = []\n",
    "for i in protected_rxns_name:\n",
    "    index = rx_names.index(i)\n",
    "    protected_rxns_index.append(index)\n",
    "\n",
    "properties = IMATProperties(\n",
    "    exp_vector = np.array(iMAT_data['0'].tolist()), # check what input to here\n",
    "    exp_thresholds = (0.2,0.5),\n",
    "    core = protected_rxns_index\n",
    ")\n",
    "\n",
    "method = IMAT(S, lb.astype(float), ub.astype(float), properties)"
   ]
  },
  {
   "cell_type": "code",
   "execution_count": null,
   "metadata": {},
   "outputs": [],
   "source": [
    "to_remove = np.setdiff1d(list(range(S.shape[1])), method.run())"
   ]
  },
  {
   "cell_type": "code",
   "execution_count": null,
   "metadata": {},
   "outputs": [],
   "source": [
    "model_iMAT = model_cobra.copy()"
   ]
  },
  {
   "cell_type": "code",
   "execution_count": null,
   "metadata": {},
   "outputs": [],
   "source": [
    "r_ids = [r.id for r in model_iMAT.reactions]\n",
    "to_remove_ids = [r_ids[r] for r in to_remove]\n",
    "model_iMAT.remove_reactions(to_remove_ids,True)"
   ]
  },
  {
   "cell_type": "code",
   "execution_count": null,
   "metadata": {},
   "outputs": [],
   "source": [
    "write_sbml_model(model_iMAT, \"/home/jiang817/cybergut_project/Draft_model/Draft_model_with_tINIT/draft_reconstruction_iMAT_BIGG.xml\")"
   ]
  },
  {
   "cell_type": "code",
   "execution_count": null,
   "metadata": {},
   "outputs": [],
   "source": [
    "# run fastcc to obtain consistent reconstruction \n",
    "model_fastcc = fastcc(model_iMAT)\n",
    "\n",
    "# save consistent reconstuction\n",
    "write_sbml_model(model_fastcc, '/home/jiang817/cybergut_project/Gapfilling/fastcc_outputs/reconstruction_iMAT_fastcc.xml')"
   ]
  }
 ],
 "metadata": {
  "kernelspec": {
   "display_name": "BaloniLab",
   "language": "python",
   "name": "python3"
  },
  "language_info": {
   "codemirror_mode": {
    "name": "ipython",
    "version": 3
   },
   "file_extension": ".py",
   "mimetype": "text/x-python",
   "name": "python",
   "nbconvert_exporter": "python",
   "pygments_lexer": "ipython3",
   "version": "3.8.16"
  },
  "orig_nbformat": 4
 },
 "nbformat": 4,
 "nbformat_minor": 2
}
