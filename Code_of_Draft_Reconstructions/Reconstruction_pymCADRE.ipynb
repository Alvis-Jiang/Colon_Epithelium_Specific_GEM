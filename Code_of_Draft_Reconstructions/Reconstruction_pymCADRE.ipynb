{
 "cells": [
  {
   "cell_type": "code",
   "execution_count": null,
   "metadata": {},
   "outputs": [],
   "source": [
    "import pymCADRE\n",
    "import pandas as pd\n",
    "import numpy as np\n",
    "import gurobipy\n",
    "from pymCADRE.rank.rank_reactions import *\n",
    "from pymCADRE.prune.prune_model import *\n",
    "from cobra.io import read_sbml_model, write_sbml_model\n",
    "import os\n",
    "\n",
    "from cobra.flux_analysis import fastcc"
   ]
  },
  {
   "cell_type": "code",
   "execution_count": null,
   "metadata": {},
   "outputs": [],
   "source": [
    "# set paht for Gurobi License\n",
    "os.environ['GUROBI_HOME'] = \"/home/jiang817/cybergut_project/Software/gurobi_license\"\n",
    "os.environ['GRB_LICENSE_FILE'] = \"/home/jiang817/cybergut_project/Software/gurobi_license/gurobi.lic\""
   ]
  },
  {
   "cell_type": "code",
   "execution_count": null,
   "metadata": {},
   "outputs": [],
   "source": [
    "# Load Recon3D\n",
    "model = read_sbml_model('/home/jiang817/cybergut_project/General_models/Recon3D.xml')"
   ]
  },
  {
   "cell_type": "code",
   "execution_count": null,
   "metadata": {},
   "outputs": [],
   "source": [
    "# Set exchagne reaction boundries as (-100, 100)\n",
    "for i in range (len(model.reactions)):\n",
    "    if model.reactions[i].id.startswith('EX_'):\n",
    "        model.reactions[i].bounds = (-100, 100)"
   ]
  },
  {
   "cell_type": "code",
   "execution_count": null,
   "metadata": {},
   "outputs": [],
   "source": [
    "# Load gene ID\n",
    "G = pd.read_csv('/home/jiang817/cybergut_project/Draft_model/Recon3D_input/Recon3D_BIGG_pymCADRE_INPUT/ENTRZE_ID_RECON3D_XML.csv')\n",
    "G = list(G['ENTREZ_GENE_ID'])\n"
   ]
  },
  {
   "cell_type": "code",
   "execution_count": null,
   "metadata": {},
   "outputs": [],
   "source": [
    "# Load Ubuquity scores of genes\n",
    "U = pd.read_csv('/home/jiang817/cybergut_project/Draft_model/Recon3D_input/Recon3D_BIGG_pymCADRE_INPUT/Ubiquity_Score_RECON3D_XML.csv')\n",
    "U = list(U['Ubiquity_score'])\n"
   ]
  },
  {
   "cell_type": "code",
   "execution_count": null,
   "metadata": {},
   "outputs": [],
   "source": [
    "# Load confidence scores\n",
    "confidence_scores = pd.read_csv('/home/jiang817/cybergut_project/Draft_model/Recon3D_input/Recon3D_BIGG_pymCADRE_INPUT/Recon3D_XML_confidence_scores.csv')\n",
    "confidence_scores = np.float64(list(confidence_scores['Confidence Score']))"
   ]
  },
  {
   "cell_type": "code",
   "execution_count": null,
   "metadata": {},
   "outputs": [],
   "source": [
    "# Run rank reactions\n",
    "GM, C, NC, P, Z, model_C = rank_reactions(model, G, U, confidence_scores, [], 2)   "
   ]
  },
  {
   "cell_type": "code",
   "execution_count": null,
   "metadata": {},
   "outputs": [],
   "source": [
    "# Set the formula of metabolite -'protein_c' as 'PROTEIN', to avoid error \n",
    "for i in range(len(GM.metabolites)):\n",
    "    if GM.metabolites[i].id == 'protein_c':\n",
    "        GM.metabolites[i].formula = 'PROTEIN'"
   ]
  },
  {
   "cell_type": "code",
   "execution_count": null,
   "metadata": {},
   "outputs": [],
   "source": [
    "# Run prune_model\n",
    "try:\n",
    "    \n",
    "    print('Pruning reactions...')\n",
    "    t0 = process_time()\n",
    "    PM, cRes = prune_model(GM, P, C, Z, 1/3, '/home/jiang817/cybergut_project/Draft_model/Recon3D_input/Recon3D_XML_pymCADRE_INPUT/KeyMets_Recon3D_XML.txt', 1, 2)\n",
    "    # Stop the stopwatch / counter\n",
    "    t_stop = process_time()\n",
    "    # compute elapsed time\n",
    "    pruneTime = t_stop - t0\n",
    "    \n",
    "    print('PASS...', 'Function prune_model ran without error')\n",
    "\n",
    "except (RuntimeError, TypeError, NameError) as inst:\n",
    "\n",
    "    print('FAIL...', 'Function prune_model was terminated with the error:')\n",
    "    print(type(inst))\n",
    "    print(inst.args)"
   ]
  },
  {
   "cell_type": "code",
   "execution_count": null,
   "metadata": {},
   "outputs": [],
   "source": [
    "write_sbml_model(model, '/home/jiang817/cybergut_project/Draft_model/Draft_model_with_pymCADRE/test.xml')"
   ]
  },
  {
   "cell_type": "code",
   "execution_count": null,
   "metadata": {},
   "outputs": [],
   "source": [
    "# run fastcc to obtain consistent reconstruction \n",
    "model_fastcc = fastcc(model)\n",
    "\n",
    "# save consistent reconstuction\n",
    "write_sbml_model(model_fastcc, '/home/jiang817/cybergut_project/Gapfilling/fastcc_outputs/reconstruction_pymcadre_fastcc.xml')"
   ]
  }
 ],
 "metadata": {
  "kernelspec": {
   "display_name": "BaloniLab",
   "language": "python",
   "name": "python3"
  },
  "language_info": {
   "codemirror_mode": {
    "name": "ipython",
    "version": 3
   },
   "file_extension": ".py",
   "mimetype": "text/x-python",
   "name": "python",
   "nbconvert_exporter": "python",
   "pygments_lexer": "ipython3",
   "version": "3.8.16"
  }
 },
 "nbformat": 4,
 "nbformat_minor": 2
}
