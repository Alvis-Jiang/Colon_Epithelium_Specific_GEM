{
 "cells": [
  {
   "cell_type": "code",
   "execution_count": null,
   "metadata": {},
   "outputs": [],
   "source": [
    "import os, sys\n",
    "import pandas as pd\n",
    "import numpy as np\n",
    "import re\n",
    "import resource\n",
    "import cplex"
   ]
  },
  {
   "cell_type": "code",
   "execution_count": null,
   "metadata": {},
   "outputs": [],
   "source": [
    "from cobra.io import read_sbml_model, write_sbml_model\n",
    "from cobra.util.solver import solvers\n",
    "from cobra.core.configuration import Configuration"
   ]
  },
  {
   "cell_type": "code",
   "execution_count": null,
   "metadata": {},
   "outputs": [],
   "source": [
    " Configuration.solver = solvers['cplex']"
   ]
  },
  {
   "cell_type": "code",
   "execution_count": null,
   "metadata": {},
   "outputs": [],
   "source": [
    "from cobra.flux_analysis import find_blocked_reactions\n",
    "from urllib.request import urlretrieve\n",
    "from cobamp.utilities.parallel import batch_run, cpu_count\n",
    "from troppo.methods_wrappers import ReconstructionWrapper\n",
    "from troppo.omics.core import OmicsMeasurementSet, OmicsContainer\n",
    "\n",
    "from troppo.methods_wrappers import integration_strategy_map\n",
    "from troppo.omics.integration import MINSUM, MINMAX\n",
    "\n",
    "from itertools import product"
   ]
  },
  {
   "cell_type": "code",
   "execution_count": null,
   "metadata": {},
   "outputs": [],
   "source": [
    "arg = [argval.split('=')[1] for argval in sys.argv[1:] if '-config=' in argval]\n",
    "mp = '-no-mp' not in sys.argv[1:]"
   ]
  },
  {
   "cell_type": "code",
   "execution_count": null,
   "metadata": {},
   "outputs": [],
   "source": [
    "# mmodify Recon3D model\n",
    "model = read_sbml_model('/home/jiang817/cybergut_project/General_models/Recon3D.xml')\n",
    "model_cobra = read_sbml_model('/home/jiang817/cybergut_project/General_models/Recon3D.xml')"
   ]
  },
  {
   "cell_type": "code",
   "execution_count": null,
   "metadata": {},
   "outputs": [],
   "source": [
    "# model.remove_metabolites([m for m in model.metabolites if m.compartment == 'x'])\n"
   ]
  },
  {
   "cell_type": "code",
   "execution_count": null,
   "metadata": {},
   "outputs": [],
   "source": [
    "blocked = find_blocked_reactions(model)\n"
   ]
  },
  {
   "cell_type": "code",
   "execution_count": null,
   "metadata": {},
   "outputs": [],
   "source": [
    "model.remove_reactions(blocked)"
   ]
  },
  {
   "cell_type": "code",
   "execution_count": null,
   "metadata": {},
   "outputs": [],
   "source": [
    "# model.reactions.get_by_id('BIOMASS_maintenance').bounds = (0, 1000)\n",
    "for i in range(len(model.reactions)):\n",
    "    if model.reactions[i].id.startswith('EX_'):\n",
    "        model.reactions[i].bounds = (-100, 100)\n"
   ]
  },
  {
   "cell_type": "code",
   "execution_count": null,
   "metadata": {},
   "outputs": [],
   "source": [
    "exp_data = pd.read_csv('/home/jiang817/cybergut_project/Draft_model/Recon3D_input/Recon3D_XML_tINIT_INPUT/expressiondata_tinit_log2.csv')"
   ]
  },
  {
   "cell_type": "code",
   "execution_count": null,
   "metadata": {},
   "outputs": [],
   "source": [
    "exp_data"
   ]
  },
  {
   "cell_type": "code",
   "execution_count": null,
   "metadata": {},
   "outputs": [],
   "source": [
    "data_dict = {}"
   ]
  },
  {
   "cell_type": "code",
   "execution_count": null,
   "metadata": {},
   "outputs": [],
   "source": [
    "exp_data.iloc[1,0]"
   ]
  },
  {
   "cell_type": "code",
   "execution_count": null,
   "metadata": {},
   "outputs": [],
   "source": [
    "for i in range(len(exp_data)):\n",
    "    data_dict[exp_data.iloc[i, 0]] = exp_data.iloc[i, 1]"
   ]
  },
  {
   "cell_type": "code",
   "execution_count": null,
   "metadata": {},
   "outputs": [],
   "source": [
    "data_dict"
   ]
  },
  {
   "cell_type": "code",
   "execution_count": null,
   "metadata": {},
   "outputs": [],
   "source": [
    "protected = ['BIOMASS_maintenance', 'ATPS4mi']"
   ]
  },
  {
   "cell_type": "code",
   "execution_count": null,
   "metadata": {},
   "outputs": [],
   "source": [
    "#### parameter setup\n",
    "params = {\n",
    "            'algorithms':['tinit','fastcore'],\n",
    "            'strategies': {\n",
    "                'tinit': integration_strategy_map['adjusted_score'](protected),\n",
    "                'fastcore': integration_strategy_map['default_core'](0, protected)\n",
    "            },\n",
    "            'functions':{'minmax': MINMAX, 'minsum': MINSUM},\n",
    "    }"
   ]
  },
  {
   "cell_type": "code",
   "execution_count": null,
   "metadata": {},
   "outputs": [],
   "source": [
    " def reconstruct_model(options, params):\n",
    "    print('\\tResource statistics before reconstruction with',options[0],':', resource.getrusage(resource.RUSAGE_SELF))\n",
    "    alg, d, func = options\n",
    "    data_dict, aofunc = d, params['functions'][func]\n",
    "\n",
    "    oc_sample = OmicsContainer(omicstype='transcriptomics', condition='x',\n",
    "                                data=data_dict, nomenclature='custom')\n",
    "\n",
    "    return params['rw'].run_from_omics(omics_data=oc_sample, algorithm=alg, and_or_funcs=aofunc,\n",
    "                        integration_strategy=params['strategies'][alg], solver='GUROBI', raise_errors=False)\n"
   ]
  },
  {
   "cell_type": "code",
   "execution_count": null,
   "metadata": {},
   "outputs": [],
   "source": [
    "# obtain S, ub and lb of Recon3D\n",
    "rw = ReconstructionWrapper(model, ttg_ratio=9999)\n",
    "params['rw'] = rw"
   ]
  },
  {
   "cell_type": "code",
   "execution_count": null,
   "metadata": {},
   "outputs": [],
   "source": [
    "x = rw.run_from_omics"
   ]
  },
  {
   "cell_type": "code",
   "execution_count": null,
   "metadata": {},
   "outputs": [],
   "source": []
  },
  {
   "cell_type": "code",
   "execution_count": null,
   "metadata": {},
   "outputs": [],
   "source": [
    "algo, intfx  = ('tinit', 'minmax')\n",
    "#algo, intfx  = ('tinit', 'minsum')"
   ]
  },
  {
   "cell_type": "code",
   "execution_count": null,
   "metadata": {},
   "outputs": [],
   "source": [
    "reconstructions = reconstruct_model((algo, data_dict, intfx), params)"
   ]
  },
  {
   "cell_type": "code",
   "execution_count": null,
   "metadata": {},
   "outputs": [],
   "source": [
    "reconstructions.values()"
   ]
  },
  {
   "cell_type": "code",
   "execution_count": null,
   "metadata": {},
   "outputs": [],
   "source": [
    "num_remove = 0\n",
    "for i in reconstructions.values():\n",
    "    if i == False:\n",
    "        num_remove += 1\n",
    "print(num_remove)"
   ]
  },
  {
   "cell_type": "code",
   "execution_count": null,
   "metadata": {},
   "outputs": [],
   "source": [
    "rm_rxn = []\n",
    "for (k, v) in reconstructions.items():\n",
    "    if v == False:\n",
    "        print(k)\n",
    "        rm_rxn.append(k)\n",
    "\n"
   ]
  },
  {
   "cell_type": "code",
   "execution_count": null,
   "metadata": {},
   "outputs": [],
   "source": [
    "len(rm_rxn)\n"
   ]
  },
  {
   "cell_type": "code",
   "execution_count": null,
   "metadata": {},
   "outputs": [],
   "source": [
    "rxn_removed = [[i] for i in rm_rxn]"
   ]
  },
  {
   "cell_type": "code",
   "execution_count": null,
   "metadata": {},
   "outputs": [],
   "source": [
    "name = ['rxn_removed']\n",
    "rxn_removed = pd.DataFrame(columns = name, data = rxn_removed)\n",
    "rxn_removed.to_csv('/home/jiang817/cybergut_project/Draft_model/Draft_model_with_tINIT/rxn_removed.csv')"
   ]
  },
  {
   "cell_type": "code",
   "execution_count": null,
   "metadata": {},
   "outputs": [],
   "source": [
    "model_tINIT  = model_cobra"
   ]
  },
  {
   "cell_type": "code",
   "execution_count": null,
   "metadata": {},
   "outputs": [],
   "source": [
    "model_tINIT.remove_reactions(rm_rxn, True)"
   ]
  },
  {
   "cell_type": "code",
   "execution_count": null,
   "metadata": {},
   "outputs": [],
   "source": [
    "model_tINIT.optimize()"
   ]
  },
  {
   "cell_type": "code",
   "execution_count": null,
   "metadata": {},
   "outputs": [],
   "source": [
    "write_sbml_model(model_tINIT, \"/home/jiang817/cybergut_project/Draft_model/Draft_model_with_tINIT/draft_model_tINIT.xml\")"
   ]
  },
  {
   "cell_type": "code",
   "execution_count": null,
   "metadata": {},
   "outputs": [],
   "source": [
    "model = read_sbml_model('/home/jiang817/cybergut_project/Draft_model/Draft_model_with_tINIT/draft_model_tINIT_BIGG.xml')"
   ]
  },
  {
   "cell_type": "code",
   "execution_count": null,
   "metadata": {},
   "outputs": [],
   "source": [
    "model"
   ]
  }
 ],
 "metadata": {
  "kernelspec": {
   "display_name": "BaloniLab_py38",
   "language": "python",
   "name": "balonilab_py38"
  },
  "language_info": {
   "codemirror_mode": {
    "name": "ipython",
    "version": 3
   },
   "file_extension": ".py",
   "mimetype": "text/x-python",
   "name": "python",
   "nbconvert_exporter": "python",
   "pygments_lexer": "ipython3",
   "version": "3.8.16"
  },
  "orig_nbformat": 4
 },
 "nbformat": 4,
 "nbformat_minor": 2
}
