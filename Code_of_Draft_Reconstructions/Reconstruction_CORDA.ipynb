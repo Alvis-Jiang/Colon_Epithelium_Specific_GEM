{
 "cells": [
  {
   "cell_type": "code",
   "execution_count": null,
   "metadata": {},
   "outputs": [],
   "source": [
    "from corda import CORDA\n",
    "import pandas as pd\n",
    "import numpy as np\n",
    "from cobra.io import read_sbml_model, write_sbml_model\n",
    "from cobra.flux_analysis import fastcc\n",
    "import os\n"
   ]
  },
  {
   "cell_type": "code",
   "execution_count": null,
   "metadata": {},
   "outputs": [],
   "source": [
    "# Load Recon3D\n",
    "model = read_sbml_model('/home/jiang817/cybergut_project/General_models/Recon3D.xml')"
   ]
  },
  {
   "cell_type": "code",
   "execution_count": null,
   "metadata": {},
   "outputs": [],
   "source": [
    "# Set exchagne reaction boundries as (-100, 100)\n",
    "for i in range (len(model.reactions)):\n",
    "    if model.reactions[i].id.startswith('EX_'):\n",
    "        model.reactions[i].bounds = (-100, 100)"
   ]
  },
  {
   "cell_type": "code",
   "execution_count": null,
   "metadata": {},
   "outputs": [],
   "source": [
    "rxn_score = pd.read_csv('/home/jiang817/cybergut_project/Draft_model/Recon3D_input/Recon3D_BIGG_iMAT_INPUT/rxn_score_corda.csv')"
   ]
  },
  {
   "cell_type": "code",
   "execution_count": null,
   "metadata": {},
   "outputs": [],
   "source": [
    "# Set reaction score according to original values\n",
    "for idx in range(len(rxn_score)):\n",
    "    if rxn_score.iloc[idx, 1] > 0:\n",
    "        print(rxn_score.iloc[idx, 1])\n",
    "        rxn_score.iloc[idx, 1] = 3\n",
    "    if rxn_score.iloc[idx, 1] == 0:\n",
    "        print(rxn_score.iloc[idx, 1])\n",
    "        rxn_score.iloc[idx, 1] = -1\n",
    "\n",
    "rxn_score.fillna(0, inplace=True)\n",
    "\n",
    "confidence = {}\n",
    "for i in range(len(rxn_score)):\n",
    "    key = rxn_score.iloc[i, 0]\n",
    "    value = rxn_score.iloc[i, 1]\n",
    "    print(key, value)\n",
    "    confidence[key] = value"
   ]
  },
  {
   "cell_type": "code",
   "execution_count": null,
   "metadata": {},
   "outputs": [],
   "source": [
    "# Load metabolites of BIOMASS_maaintenance \n",
    "Met = pd.read_csv('//home/jiang817/cybergut_project/Draft_model/Recon3D_input/Recon3D_BIGG_CORDA_INPUT/KeyMets_Recon3D_XML.txt', header=0)\n",
    "Met = Met['Met'].to_list()"
   ]
  },
  {
   "cell_type": "code",
   "execution_count": null,
   "metadata": {},
   "outputs": [],
   "source": [
    "# Run CORDA\n",
    "ts_model = CORDA(model, confidence, Met)\n",
    "ts_model.build()"
   ]
  },
  {
   "cell_type": "code",
   "execution_count": null,
   "metadata": {},
   "outputs": [],
   "source": [
    "# Obtain \n",
    "for i in ts_model.included:\n",
    "    if ts_model.included[i] == False:\n",
    "        model.remove_reactions(i, remove_orphans=True)\n",
    "        "
   ]
  },
  {
   "cell_type": "code",
   "execution_count": null,
   "metadata": {},
   "outputs": [],
   "source": [
    "# save draft reconstuction\n",
    "write_sbml_model(model, '/home/jiang817/cybergut_project/Draft_model/Draft_model_with_CORDA/draft_model_CORDA_BIGG.xml')"
   ]
  },
  {
   "cell_type": "code",
   "execution_count": null,
   "metadata": {},
   "outputs": [],
   "source": [
    "# run fastcc to obtain consistent reconstruction \n",
    "model_fastcc = fastcc(model)\n",
    "\n",
    "# save consistent reconstuction\n",
    "write_sbml_model(model_fastcc, '/home/jiang817/cybergut_project/Gapfilling/fastcc_outputs/reconstruction_CORDA_fastcc.xml')"
   ]
  }
 ],
 "metadata": {
  "kernelspec": {
   "display_name": "BaloniLab",
   "language": "python",
   "name": "python3"
  },
  "language_info": {
   "codemirror_mode": {
    "name": "ipython",
    "version": 3
   },
   "file_extension": ".py",
   "mimetype": "text/x-python",
   "name": "python",
   "nbconvert_exporter": "python",
   "pygments_lexer": "ipython3",
   "version": "3.8.16"
  },
  "orig_nbformat": 4
 },
 "nbformat": 4,
 "nbformat_minor": 2
}
