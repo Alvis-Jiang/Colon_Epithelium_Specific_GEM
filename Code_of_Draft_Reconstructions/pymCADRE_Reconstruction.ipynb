{
 "cells": [
  {
   "cell_type": "code",
   "execution_count": 1,
   "metadata": {},
   "outputs": [],
   "source": [
    "import pymCADRE\n",
    "import pandas as pd\n",
    "import numpy as np\n",
    "import gurobipy\n",
    "from pymCADRE.rank.rank_reactions import *\n",
    "from pymCADRE.prune.prune_model import *\n",
    "import os\n"
   ]
  },
  {
   "cell_type": "code",
   "execution_count": 2,
   "metadata": {},
   "outputs": [],
   "source": [
    "os.environ['GUROBI_HOME'] = \"/home/jiang817/cybergut_project/Software/gurobi_license\"\n",
    "os.environ['GRB_LICENSE_FILE'] = \"/home/jiang817/cybergut_project/Software/gurobi_license/gurobi.lic\""
   ]
  },
  {
   "cell_type": "code",
   "execution_count": 3,
   "metadata": {},
   "outputs": [
    {
     "name": "stdout",
     "output_type": "stream",
     "text": [
      "Set parameter WLSAccessID\n",
      "Set parameter WLSSecret\n",
      "Set parameter LicenseID to value 921650\n",
      "Academic license - for non-commercial use only - registered to jiang817@purdue.edu\n"
     ]
    }
   ],
   "source": [
    "model = io.read_sbml_model('/home/jiang817/cybergut_project/General_models/Recon3D.xml')"
   ]
  },
  {
   "cell_type": "code",
   "execution_count": 4,
   "metadata": {},
   "outputs": [],
   "source": [
    "for i in range (len(model.reactions)):\n",
    "    if model.reactions[i].id.startswith('EX_'):\n",
    "        model.reactions[i].bounds = (-100, 100)"
   ]
  },
  {
   "cell_type": "code",
   "execution_count": 5,
   "metadata": {},
   "outputs": [],
   "source": [
    "G = pd.read_csv('/home/jiang817/cybergut_project/Draft_model/Recon3D_input/Recon3D_BIGG_pymCADRE_INPUT/ENTRZE_ID_RECON3D_XML.csv')\n",
    "G = list(G['ENTREZ_GENE_ID'])\n"
   ]
  },
  {
   "cell_type": "code",
   "execution_count": 6,
   "metadata": {},
   "outputs": [],
   "source": [
    "U = pd.read_csv('/home/jiang817/cybergut_project/Draft_model/Recon3D_input/Recon3D_BIGG_pymCADRE_INPUT/Ubiquity_Score_RECON3D_XML.csv')\n",
    "U = list(U['Ubiquity_score'])\n"
   ]
  },
  {
   "cell_type": "code",
   "execution_count": 7,
   "metadata": {},
   "outputs": [],
   "source": [
    "confidence_scores = pd.read_csv('/home/jiang817/cybergut_project/Draft_model/Recon3D_input/Recon3D_BIGG_pymCADRE_INPUT/Recon3D_XML_confidence_scores.csv')\n",
    "confidence_scores = np.float64(list(confidence_scores['Confidence Score']))"
   ]
  },
  {
   "cell_type": "code",
   "execution_count": null,
   "metadata": {},
   "outputs": [],
   "source": [
    "#protected_rxn = ['BIOMASS_maintenance', 'ATPS4mi']\n",
    "#def protected_rxn_idx(protected_rxn):\n",
    "    #idx = []\n",
    "    #for i in protected_rxn:\n",
    "    #    idx.append(model.reactions.index(i))\n",
    "    #return idx\n",
    "#protected = protected_rxn_idx(protected_rxn)\n",
    "#protected"
   ]
  },
  {
   "cell_type": "code",
   "execution_count": 8,
   "metadata": {},
   "outputs": [
    {
     "name": "stderr",
     "output_type": "stream",
     "text": [
      "/home/jiang817/anaconda3/envs/BaloniLab/lib/python3.8/site-packages/pymCADRE/rank/calc_expr_evidence.py:34: RuntimeWarning: All-NaN axis encountered\n",
      "  U_GPR_min = [np.nanmin(l) for l in U_GPR]\n",
      "/home/jiang817/anaconda3/envs/BaloniLab/lib/python3.8/site-packages/pymCADRE/rank/calc_expr_evidence.py:48: RuntimeWarning: All-NaN axis encountered\n",
      "  E_X[i] = np.nanmax(tmp_lst)\n"
     ]
    },
    {
     "name": "stdout",
     "output_type": "stream",
     "text": [
      "Checking all reactions (FASTCC)...\n",
      "Read LP format model from file /tmp/tmpczzh0sqg.lp\n",
      "Reading time = 0.04 seconds\n",
      ": 5835 rows, 21200 columns, 80850 nonzeros\n",
      "Model consists of 602 blocked (inactive) reactions\n",
      "Execution time of check_model_consistency: 42.490470443999996 s\n",
      "check_model_consistency done ... \n",
      "Read LP format model from file /tmp/tmpf16c6edb.lp\n",
      "Reading time = 0.03 seconds\n",
      ": 5835 rows, 21200 columns, 80850 nonzeros\n"
     ]
    },
    {
     "name": "stderr",
     "output_type": "stream",
     "text": [
      "/home/jiang817/anaconda3/envs/BaloniLab/lib/python3.8/site-packages/pymCADRE/rank/calc_conn_evidence.py:39: RuntimeWarning: invalid value encountered in true_divide\n",
      "  I = A / rep  # define Influence Matrix\n"
     ]
    },
    {
     "ename": "",
     "evalue": "",
     "output_type": "error",
     "traceback": [
      "\u001b[1;31mCanceled future for execute_request message before replies were done"
     ]
    },
    {
     "ename": "",
     "evalue": "",
     "output_type": "error",
     "traceback": [
      "\u001b[1;31mThe Kernel crashed while executing code in the the current cell or a previous cell. Please review the code in the cell(s) to identify a possible cause of the failure. Click <a href='https://aka.ms/vscodeJupyterKernelCrash'>here</a> for more info. View Jupyter <a href='command:jupyter.viewOutput'>log</a> for further details."
     ]
    }
   ],
   "source": [
    "GM, C, NC, P, Z, model_C = rank_reactions(model, G, U, confidence_scores, [], 2)   "
   ]
  },
  {
   "cell_type": "code",
   "execution_count": null,
   "metadata": {},
   "outputs": [],
   "source": [
    "for i in range(len(GM.metabolites)):\n",
    "    if GM.metabolites[i].id == 'protein_c':\n",
    "        GM.metabolites[i].formula = 'PROTEIN'"
   ]
  },
  {
   "cell_type": "code",
   "execution_count": null,
   "metadata": {},
   "outputs": [],
   "source": [
    "GM.metabolites.protein_c"
   ]
  },
  {
   "cell_type": "code",
   "execution_count": null,
   "metadata": {},
   "outputs": [],
   "source": [
    "try:\n",
    "    \n",
    "    print('Pruning reactions...')\n",
    "    t0 = process_time()\n",
    "    PM, cRes = prune_model(GM, P, C, Z, 1/3, '/home/jiang817/cybergut_project/Draft_model/Recon3D_input/Recon3D_XML_pymCADRE_INPUT/KeyMets_Recon3D_XML.txt', 1, 2)\n",
    "    # Stop the stopwatch / counter\n",
    "    t_stop = process_time()\n",
    "    # compute elapsed time\n",
    "    pruneTime = t_stop - t0\n",
    "    \n",
    "    print('PASS...', 'Function prune_model ran without error')\n",
    "\n",
    "except (RuntimeError, TypeError, NameError) as inst:\n",
    "\n",
    "    print('FAIL...', 'Function prune_model was terminated with the error:')\n",
    "    print(type(inst))\n",
    "    print(inst.args)"
   ]
  },
  {
   "cell_type": "code",
   "execution_count": null,
   "metadata": {},
   "outputs": [],
   "source": [
    "io.write_sbml_model(model, '/home/jiang817/cybergut_project/Draft_model/Draft_model_with_pymCADRE/test.xml')"
   ]
  },
  {
   "cell_type": "code",
   "execution_count": null,
   "metadata": {},
   "outputs": [],
   "source": []
  }
 ],
 "metadata": {
  "kernelspec": {
   "display_name": "BaloniLab",
   "language": "python",
   "name": "python3"
  },
  "language_info": {
   "codemirror_mode": {
    "name": "ipython",
    "version": 3
   },
   "file_extension": ".py",
   "mimetype": "text/x-python",
   "name": "python",
   "nbconvert_exporter": "python",
   "pygments_lexer": "ipython3",
   "version": "3.8.16"
  }
 },
 "nbformat": 4,
 "nbformat_minor": 2
}
