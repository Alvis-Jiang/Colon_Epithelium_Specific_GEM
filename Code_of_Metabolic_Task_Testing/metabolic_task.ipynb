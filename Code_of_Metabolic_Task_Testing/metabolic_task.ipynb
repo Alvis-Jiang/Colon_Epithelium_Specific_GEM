{
 "cells": [
  {
   "cell_type": "code",
   "execution_count": null,
   "metadata": {},
   "outputs": [],
   "source": [
    "import csv\n",
    "import os\n",
    "import cobra\n",
    "from cobra.util.solver import linear_reaction_coefficients\n",
    "from cobra.io import read_sbml_model, write_sbml_model,load_matlab_model\n",
    "from cobra.flux_analysis import fastcc\n",
    "import itertools as it\n",
    "import numpy as np\n",
    "import pandas as pd\n"
   ]
  },
  {
   "cell_type": "code",
   "execution_count": null,
   "metadata": {},
   "outputs": [],
   "source": [
    "os.environ['GUROBI_HOME'] = \"/home/jiang817/cybergut_project/Software/gurobi_license\"\n",
    "os.environ['GRB_LICENSE_FILE'] = \"/home/jiang817/cybergut_project/Software/gurobi_license/gurobi.lic\""
   ]
  },
  {
   "cell_type": "code",
   "execution_count": null,
   "metadata": {},
   "outputs": [],
   "source": [
    "# Load 4 draft reconstructions obtained by iMAT, CORDA, tINIT and pymCADRE\n",
    "draft_recon_iMAT = read_sbml_model('/home/jiang817/cybergut_project/Gapfilling/fastcc_outputs/reconstruction_iMAT_fastcc.xml')\n",
    "draft_recon_CORDA = read_sbml_model('/home/jiang817/cybergut_project/Gapfilling/fastcc_outputs/reconstruction_CORDA_fastcc.xml')\n",
    "draft_recon_tINIT = read_sbml_model('/home/jiang817/cybergut_project/Gapfilling/fastcc_outputs/reconstruction_tINIT_fastcc.xml')\n",
    "draft_recon_pymcadre = read_sbml_model('/home/jiang817/cybergut_project/Gapfilling/fastcc_outputs/reconstruction_pymcadre_fastcc.xml')"
   ]
  },
  {
   "cell_type": "code",
   "execution_count": null,
   "metadata": {},
   "outputs": [],
   "source": [
    "# Load the Recon3D model\n",
    "General_model = read_sbml_model('/home/jiang817/cybergut_project/General_models/Recon3D.xml')"
   ]
  },
  {
   "cell_type": "code",
   "execution_count": null,
   "metadata": {},
   "outputs": [],
   "source": [
    "draft_recon_iMAT.solver = 'gurobi'\n",
    "draft_recon_CORDA.solver = 'gurobi'\n",
    "draft_recon_tINIT.solver = 'gurobi'\n",
    "draft_recon_pymcadre.solver = 'gurobi'"
   ]
  },
  {
   "cell_type": "code",
   "execution_count": null,
   "metadata": {},
   "outputs": [],
   "source": [
    "# the input of metabolic tasks\n",
    "met_task_df = pd.read_csv('/home/jiang817/cybergut_project/metabolic_task/input_metabolic_tasks.csv', header=0)\n",
    "# met_task_df\n",
    "rxn_id = met_task_df.iloc[:,0].to_list()\n",
    "consumed_met = met_task_df.iloc[:,1].to_list()\n",
    "produced_met = met_task_df.iloc[:,2].to_list()\n"
   ]
  },
  {
   "cell_type": "code",
   "execution_count": null,
   "metadata": {},
   "outputs": [],
   "source": [
    "# componenet of Ham's medium\n",
    "medium_df= pd.read_csv('/home/jiang817/cybergut_project/metabolic_task/HAM_medium_composition.csv', header=0)\n",
    "medium_df.dropna(axis=0, inplace=True)\n",
    "HAM = medium_df.iloc[:,1].to_list()\n",
    "HAM"
   ]
  },
  {
   "cell_type": "code",
   "execution_count": null,
   "metadata": {},
   "outputs": [],
   "source": [
    "def test_metabolic_task(model, consumed_met, produced_met, General_model, Medium):\n",
    "\n",
    "# model: draft reconstruction\n",
    "# tasks: dict['consumed_metabolites']: 'produced metabolites'\n",
    "# General_model: models that draft reconstructions came from\n",
    "# Medium: boolen--True: using HAM medium; False: not using HAM medium  \n",
    "\n",
    "    # close exchange reactions\n",
    "    for i in range (len(model.boundary)):\n",
    "        if model.boundary[i].id.startswith('EX_'):\n",
    "            model.boundary[i].bounds = (0, 100)\n",
    "\n",
    "    #  close all sinck reactions\n",
    "    for i in range (len(model.boundary)):\n",
    "        if model.boundary[i].id.startswith('SK_'):\n",
    "            model.boundary[i].bounds = (0, 0)\n",
    "\n",
    "   # close demand reactions\n",
    "    for i in range (len(model.boundary)):\n",
    "        if model.boundary[i].id.startswith('DM_'):\n",
    "            model.boundary[i].lower_bound = 0\n",
    "\n",
    "    # aerobic\n",
    "    if 'EX_o2_e' not in [model.reactions[i].id for i in range(len(model.reactions))]:\n",
    "        model.add_reactions([General_model.reactions.get_by_id('EX_o2_e')])\n",
    "    model.reactions.get_by_id('EX_o2_e').bounds = (-40, 0)\n",
    "    # change all reaction coefficient to 0\n",
    "    Cofficient = {}\n",
    "    for i in model.reactions:\n",
    "        Cofficient[i] = 0\n",
    "    model.objective = Cofficient\n",
    "\n",
    "    # using Ham medium\n",
    "    if Medium:\n",
    "        model_boundary = [model.boundary[i].id for i in range(len(model.boundary))]\n",
    "        for c in HAM:\n",
    "            if c in model_boundary:\n",
    "                model.reactions.get_by_id(c).lower_bound = -1\n",
    "            else:\n",
    "                c_met = c.split('EX_')[1]\n",
    "                print(c)\n",
    "                print(c_met + \": Ham component not in draft reconstrcution\")\n",
    "                model.add_boundary(General_model.metabolites.get_by_id(c_met), type=\"exchange\")\n",
    "                model.reactions.get_by_id(c).bounds = (-1, 100)\n",
    "    \n",
    "    \n",
    "    tol = 1e-6\n",
    "    \n",
    "    # outputs\n",
    "    TestSolution = np.array([])\n",
    "    TestSolutionNam = np.array([])\n",
    "    TestedRxns = np.array([])\n",
    "   \n",
    "    for i in range(len(consumed_met)):\n",
    "        modelOri_copy = model.copy()\n",
    "        # removed objective \n",
    "        Cofficient = {}\n",
    "        for n in modelOri_copy.reactions:\n",
    "            Cofficient[n] = 0\n",
    "        modelOri_copy.objective = Cofficient\n",
    "      \n",
    "        met_cons = consumed_met[i]\n",
    "        print(met_cons)\n",
    "        if met_cons not in list(modelOri_copy.metabolites[i].id for i in range(len(modelOri_copy.metabolites))):\n",
    "            print('not included')\n",
    "            modelOri_copy.add_metabolites(General_model.metabolites.get_by_id(met_cons)) \n",
    "        \n",
    "        met_prod = produced_met[i]\n",
    "        print(met_prod)\n",
    "        if met_prod not in list(modelOri_copy.metabolites[i].id for i in range(len(modelOri_copy.metabolites))):\n",
    "            print('not included')\n",
    "            modelOri_copy.add_metabolites(General_model.metabolites.get_by_id(met_prod)) \n",
    "\n",
    "        task_rxn_consumed = \"SK_\" + met_cons\n",
    "        task_rxn_produced = \"SK_\" + met_prod   \n",
    "        # add the above metabolties to sink reactions\n",
    "        # set the boundary of consumed metabolite sink rxn with (-1, -1)\n",
    "        # set the boundary of produced metabolite sink rxn with (0, 100)\n",
    "        if task_rxn_consumed not in list(modelOri_copy.boundary[i].id for i in range(len(modelOri_copy.boundary))): \n",
    "            modelOri_copy.add_boundary(modelOri_copy.metabolites.get_by_id(met_cons), type=\"sink\")\n",
    "        if task_rxn_produced not in list(modelOri_copy.boundary[i].id for i in range(len(modelOri_copy.boundary))): \n",
    "            modelOri_copy.add_boundary(modelOri_copy.metabolites.get_by_id(met_prod), type=\"sink\")\n",
    "        modelOri_copy.reactions.get_by_id(task_rxn_consumed).bounds = (-1, -1)\n",
    "        modelOri_copy.reactions.get_by_id(task_rxn_produced).bounds = (0, 100)\n",
    "\n",
    "        # set the produced metabolite sink rxn as objective and then optimize the model\n",
    "        modelOri_copy.objective = task_rxn_produced \n",
    "        print(modelOri_copy.objective.expression)\n",
    "        print(modelOri_copy.objective.direction)\n",
    "        FBA = modelOri_copy.optimize('maximize')\n",
    "        TestSolution = np.append(TestSolution, FBA.objective_value)\n",
    "        formula = rxn_id[i] + ': ' + met_cons + ' -> ' + met_prod\n",
    "        TestSolutionNam = np.append(TestSolutionNam, formula)\n",
    "        \n",
    "        print(TestSolution)\n",
    "        if TestSolution[-1] is not None:\n",
    "            for m in range(len(FBA.fluxes)):\n",
    "                if FBA.fluxes[m] > tol:\n",
    "                    TestedRxns = np.append(TestedRxns, modelOri_copy.reactions[m].id)\n",
    "    \n",
    "    solution_final = pd.DataFrame(TestSolution, TestSolutionNam)\n",
    "    TestedRxns  = np.unique(TestedRxns)\n",
    "    model_rxn = np.array([model.reactions[r].id for r in range(len(model.reactions))])\n",
    "    TestedRxns = np.intersect1d(TestedRxns,model_rxn)  \n",
    "    PercTestedRxns = len(TestedRxns)*100/len(model_rxn)\n",
    "    \n",
    "    return solution_final, PercTestedRxns\n"
   ]
  },
  {
   "cell_type": "code",
   "execution_count": null,
   "metadata": {},
   "outputs": [],
   "source": [
    "# solution, Percent = test_metabolic_task(draft_recon_iMAT, consumed_met, produced_met, General_model, True)\n",
    "# solution, Percent = test_metabolic_task(draft_recon_CORDA, consumed_met, produced_met, General_model, True)\n",
    "# solution, Percent = test_metabolic_task(draft_recon_tINIT, consumed_met, produced_met, General_model, True)\n",
    "solution, Percent = test_metabolic_task(draft_recon_pymcadre, consumed_met, produced_met, General_model, True)"
   ]
  },
  {
   "cell_type": "code",
   "execution_count": null,
   "metadata": {},
   "outputs": [],
   "source": [
    "solution"
   ]
  }
 ],
 "metadata": {
  "kernelspec": {
   "display_name": "BaloniLab",
   "language": "python",
   "name": "python3"
  },
  "language_info": {
   "codemirror_mode": {
    "name": "ipython",
    "version": 3
   },
   "file_extension": ".py",
   "mimetype": "text/x-python",
   "name": "python",
   "nbconvert_exporter": "python",
   "pygments_lexer": "ipython3",
   "version": "3.8.16"
  },
  "orig_nbformat": 4
 },
 "nbformat": 4,
 "nbformat_minor": 2
}
